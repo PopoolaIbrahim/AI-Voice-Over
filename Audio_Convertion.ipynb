{
  "nbformat": 4,
  "nbformat_minor": 0,
  "metadata": {
    "colab": {
      "provenance": [],
      "authorship_tag": "ABX9TyMZG4hkziZHYuNG+YoHNelB",
      "include_colab_link": true
    },
    "kernelspec": {
      "name": "python3",
      "display_name": "Python 3"
    },
    "language_info": {
      "name": "python"
    }
  },
  "cells": [
    {
      "cell_type": "markdown",
      "metadata": {
        "id": "view-in-github",
        "colab_type": "text"
      },
      "source": [
        "<a href=\"https://colab.research.google.com/github/PopoolaIbrahim/Voice-Over-Collection/blob/main/Audio_Convertion.ipynb\" target=\"_parent\"><img src=\"https://colab.research.google.com/assets/colab-badge.svg\" alt=\"Open In Colab\"/></a>"
      ]
    },
    {
      "cell_type": "markdown",
      "source": [
        "Converting mp3 to wav"
      ],
      "metadata": {
        "id": "UEHmJ0PbqqND"
      }
    },
    {
      "cell_type": "code",
      "source": [
        "!pip install pydub"
      ],
      "metadata": {
        "id": "KhOu-x_7rDHM"
      },
      "execution_count": null,
      "outputs": []
    },
    {
      "cell_type": "markdown",
      "source": [
        "Download Audio Convert"
      ],
      "metadata": {
        "id": "2zH4bVPQtSzo"
      }
    },
    {
      "cell_type": "code",
      "execution_count": null,
      "metadata": {
        "id": "tjDzvATaqR0e"
      },
      "outputs": [],
      "source": [
        "from pydub import AudioSegment\n",
        "import requests\n",
        "from io import BytesIO\n",
        "\n",
        "# dowinloading audio from github\n",
        "voice_list = [\n",
        "    \"https://github.com/PopoolaIbrahim/PDF-to-Video/blob/main/ElevenLabs_Matthew_1.mp3\",\n",
        "    \"https://github.com/PopoolaIbrahim/PDF-to-Video/blob/main/ElevenLabs_Matthew_1.mp3\"\n",
        "]\n",
        "\n",
        "for voice_url in voice_list:\n",
        "    try:\n",
        "        response = requests.get(voice_url)\n",
        "\n",
        "        # Extract the file name from the URL\n",
        "        file_name = voice_url.split(\"/\")[-1]\n",
        "\n",
        "        # Load MP3 audio from the response content\n",
        "        audio = AudioSegment.from_mp3(BytesIO(response.content))\n",
        "\n",
        "        # Convert to WAV format\n",
        "        wav_file_name = file_name.replace(\".mp3\", \".wav\")\n",
        "        audio.export(wav_file_name, format=\"wav\")\n",
        "\n",
        "        print(f\"Converted {file_name} to {wav_file_name}\")\n",
        "    except Exception as e:\n",
        "        print(f\"Error converting {voice_url}: {e}\")\n"
      ]
    },
    {
      "cell_type": "markdown",
      "source": [
        "Local Audio Convert"
      ],
      "metadata": {
        "id": "2CGb99NjqsF_"
      }
    },
    {
      "cell_type": "code",
      "source": [
        "from pydub import AudioSegment\n",
        "from io import BytesIO\n",
        "import requests\n",
        "\n",
        "file_name = \"gigi_child.mp3\"\n",
        "# Load MP3 audio from the response content\n",
        "audio = AudioSegment.from_mp3(BytesIO(open(file_name,  'rb').read()))\n",
        "# Convert to WAV format\n",
        "wav_file_name = file_name.replace(\".mp3\", \".wav\")\n",
        "audio.export(wav_file_name, format=\"wav\")\n",
        "print(f\"Converted {file_name} to {wav_file_name}\")\n",
        "# Load the audio clip\n",
        "audio_clip = AudioSegment.from_file(wav_file_name, format=\"wav\")\n",
        "# Define the start and end times for the subclip (in milliseconds)\n",
        "start_time = 0  # start at 0 seconds\n",
        "end_time = 10000    # end at 10 seconds\n",
        "# Extract the subclip\n",
        "subclip = audio_clip[start_time:end_time]\n",
        "# Save the subclip to a new file\n",
        "subclip.export(\"gigi_child_audio_sample_1.wav\", format=\"wav\")\n",
        "### second audio\n",
        "# Load the audio clip\n",
        "audio_clip = AudioSegment.from_file(wav_file_name, format=\"wav\")\n",
        "# Define the start and end times for the subclip (in milliseconds)\n",
        "start_time = 10000  # start at 10 seconds\n",
        "end_time = 19000    # end at 19 seconds\n",
        "# Extract the subclip\n",
        "subclip = audio_clip[start_time:end_time]\n",
        "# Save the subclip to a new file\n",
        "subclip.export(\"gigi_child_audio_sample_2.wav\", format=\"wav\")\n"
      ],
      "metadata": {
        "id": "S0omvNDIqtAz"
      },
      "execution_count": null,
      "outputs": []
    },
    {
      "cell_type": "markdown",
      "source": [
        "Sub Audio Clip"
      ],
      "metadata": {
        "id": "SoINCQnatp9b"
      }
    },
    {
      "cell_type": "code",
      "source": [
        "## Get audio duration\n",
        "#!pip install pydub\n",
        "from pydub import AudioSegment\n",
        "\n",
        "def get_audio_duration(file_path):\n",
        "    audio = AudioSegment.from_file(file_path)\n",
        "    duration_in_seconds = len(audio) / 1000.0  # Convert milliseconds to seconds\n",
        "    return duration_in_seconds\n",
        "\n",
        "# Example usage:\n",
        "file_path = \"voice_over/mimi_voice_over2.wav\"\n",
        "duration = get_audio_duration(file_path)\n",
        "print(f\"Audio duration: {duration} seconds\")"
      ],
      "metadata": {
        "id": "wDa-jKJjtuHO"
      },
      "execution_count": null,
      "outputs": []
    }
  ]
}